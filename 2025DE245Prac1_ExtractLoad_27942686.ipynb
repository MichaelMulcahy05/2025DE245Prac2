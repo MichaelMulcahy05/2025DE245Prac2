{
  "nbformat": 4,
  "nbformat_minor": 0,
  "metadata": {
    "colab": {
      "provenance": []
    },
    "kernelspec": {
      "name": "python3",
      "display_name": "Python 3"
    },
    "language_info": {
      "name": "python"
    }
  },
  "cells": [
    {
      "cell_type": "markdown",
      "source": [
        "# Introduction to Python for Data Engineering\n",
        "\n",
        "This notebook demonstrates how to read data from a public API, process it to create useful information, and store the result in an SQLite database.\n",
        "\n",
        "It assumes you have read [this article](https://www.startdataengineering.com/post/python-for-de/#extract--load-read-and-write-data-to-any-system).\n",
        "\n",
        "**Acknowledgment**: Parts of this notebook were developed with the assistance of ChatGPT, an AI language model by OpenAI, to support instructional design and coding tasks related to data engineering concepts."
      ],
      "metadata": {
        "id": "Fok6QWp9znpg"
      }
    },
    {
      "cell_type": "code",
      "execution_count": 95,
      "metadata": {
        "colab": {
          "base_uri": "https://localhost:8080/"
        },
        "id": "vpIOn2KKzVhs",
        "outputId": "1dbbe189-eb0c-47db-f5e4-bdefadef050f"
      },
      "outputs": [
        {
          "output_type": "stream",
          "name": "stdout",
          "text": [
            "Requirement already satisfied: requests in /usr/local/lib/python3.11/dist-packages (2.32.3)\n",
            "Requirement already satisfied: charset-normalizer<4,>=2 in /usr/local/lib/python3.11/dist-packages (from requests) (3.4.3)\n",
            "Requirement already satisfied: idna<4,>=2.5 in /usr/local/lib/python3.11/dist-packages (from requests) (3.10)\n",
            "Requirement already satisfied: urllib3<3,>=1.21.1 in /usr/local/lib/python3.11/dist-packages (from requests) (2.5.0)\n",
            "Requirement already satisfied: certifi>=2017.4.17 in /usr/local/lib/python3.11/dist-packages (from requests) (2025.8.3)\n"
          ]
        }
      ],
      "source": [
        "# Install required packages\n",
        "!pip install requests"
      ]
    },
    {
      "cell_type": "code",
      "source": [
        "# Import libraries\n",
        "import requests\n",
        "import sqlite3\n",
        "from datetime import datetime"
      ],
      "metadata": {
        "id": "o2zpVKtTz-8k"
      },
      "execution_count": 96,
      "outputs": []
    },
    {
      "cell_type": "code",
      "source": [
        "# Get target currency\n",
        "target_currency = input(\"Enter the target currency code (eg: zar, eur, gbp): \").lower()"
      ],
      "metadata": {
        "id": "8iV9h5CFBYwb",
        "outputId": "acc69c4b-2e74-4715-b458-bdc7f3807931",
        "colab": {
          "base_uri": "https://localhost:8080/"
        }
      },
      "execution_count": 97,
      "outputs": [
        {
          "name": "stdout",
          "output_type": "stream",
          "text": [
            "Enter the target currency code (eg: zar, eur, gbp): zar\n"
          ]
        }
      ]
    },
    {
      "cell_type": "code",
      "source": [
        "# Read data from CoinGecko API\n",
        "url = f\"https://api.coingecko.com/api/v3/simple/price?ids=bitcoin&vs_currencies=usd,{target_currency}\"\n",
        "response = requests.get(url)\n",
        "data = response.json()\n",
        "\n",
        "print(\"API Response:\", data)\n"
      ],
      "metadata": {
        "colab": {
          "base_uri": "https://localhost:8080/"
        },
        "id": "lu4NR0Rf0LKn",
        "outputId": "38252e37-e095-4aee-f9bf-f5d415b6ac76"
      },
      "execution_count": 98,
      "outputs": [
        {
          "output_type": "stream",
          "name": "stdout",
          "text": [
            "API Response: {'bitcoin': {'usd': 121616, 'zar': 2136605}}\n"
          ]
        }
      ]
    },
    {
      "cell_type": "code",
      "source": [
        "# Validate data\n",
        "if \"bitcoin\" not in data or target_currency not in data[\"bitcoin\"]:\n",
        "    raise ValueError(f\"Currency '{target_currency}' not found. API may have rate-limited you or currency is invalid.\")\n",
        "\n",
        "usd_price = data[\"bitcoin\"][\"usd\"]\n",
        "target_price = data[\"bitcoin\"][target_currency]\n",
        "timestamp = datetime.now().isoformat()\n",
        "\n",
        "print(f\"Bitcoin price in USD: {usd_price}\")\n",
        "print(f\"Bitcoin price in {target_currency.upper()}: {target_price}\")"
      ],
      "metadata": {
        "id": "60EpkZEO0V0d",
        "colab": {
          "base_uri": "https://localhost:8080/"
        },
        "outputId": "75c1139d-4e55-4a01-a7cf-6c4506cc8b9f"
      },
      "execution_count": 99,
      "outputs": [
        {
          "output_type": "stream",
          "name": "stdout",
          "text": [
            "Bitcoin price in USD: 121616\n",
            "Bitcoin price in ZAR: 2136605\n"
          ]
        }
      ]
    },
    {
      "cell_type": "code",
      "source": [
        "# Connect to SQLite database (or create it)\n",
        "conn = sqlite3.connect(\"bitcoin_prices.db\")\n",
        "cursor = conn.cursor()\n",
        "\n",
        "# Create table if it doesn't exist\n",
        "cursor.execute('''\n",
        "CREATE TABLE IF NOT EXISTS prices (\n",
        "    -- These are SQL comments. Similarly /* ... */ for multi-line comments\n",
        "    -- If timestamp should be unique (e.g., one price per moment):\n",
        "    -- timestamp TEXT PRIMARY KEY,\n",
        "    -- If multiple prices per second are expected, or if you want a simple unique ID:\n",
        "    -- id INTEGER PRIMARY KEY AUTOINCREMENT,\n",
        "    timestamp TEXT,\n",
        "    usd REAL,\n",
        "    zar REAL\n",
        ")\n",
        "''')\n",
        "\n",
        "# Insert the new row\n",
        "cursor.execute(\"INSERT INTO prices VALUES (?, ?, ?, ?)\", (timestamp, usd_price, target_currency.upper(), target_price))\n",
        "conn.commit()\n",
        "conn.close()\n"
      ],
      "metadata": {
        "id": "wpimWgg00lgl"
      },
      "execution_count": 100,
      "outputs": []
    },
    {
      "cell_type": "code",
      "source": [
        "# Check if data was successfully written\n",
        "conn = sqlite3.connect(\"bitcoin_prices.db\")\n",
        "cursor = conn.cursor()\n",
        "\n",
        "# Show the last 5 rows\n",
        "rows = cursor.execute(\"SELECT * FROM prices ORDER BY timestamp DESC LIMIT 5\").fetchall()\n",
        "for row in rows:\n",
        "    print(row)\n",
        "\n",
        "conn.close()\n"
      ],
      "metadata": {
        "colab": {
          "base_uri": "https://localhost:8080/"
        },
        "id": "URSO8F6x0q1q",
        "outputId": "b34ace50-7dfb-4909-fa58-7b769001d850"
      },
      "execution_count": 101,
      "outputs": [
        {
          "output_type": "stream",
          "name": "stdout",
          "text": [
            "('2025-08-14T10:08:37.093494', 121616.0, 'ZAR', 2136605.0)\n",
            "('2025-08-14T09:51:39.426658', 121654.0, 'ZAR', 2136990.0)\n",
            "('2025-08-14T09:50:19.009495', 121664.0, 'GBP', 89562.0)\n",
            "('2025-08-14T09:50:04.192224', 121666.0, 'ZAR', 2137223.0)\n",
            "('2025-08-14T09:49:51.656130', 121680.0, 'EUR', 104134.0)\n"
          ]
        }
      ]
    }
  ]
}